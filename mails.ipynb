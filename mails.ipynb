{
 "cells": [
  {
   "cell_type": "code",
   "execution_count": 38,
   "metadata": {
    "collapsed": true
   },
   "outputs": [
    {
     "ename": "TypeError",
     "evalue": "__init__() missing 1 required positional argument: 'mmsg'",
     "traceback": [
      "\u001b[0;31m---------------------------------------------------------------------------\u001b[0m",
      "\u001b[0;31mTypeError\u001b[0m                                 Traceback (most recent call last)",
      "\u001b[0;32m<ipython-input-38-e8e8c616b0e8>\u001b[0m in \u001b[0;36m<module>\u001b[0;34m()\u001b[0m\n\u001b[1;32m      9\u001b[0m \u001b[0mmto\u001b[0m \u001b[0;34m=\u001b[0m \u001b[0;34m'robiibanez@gmail.com'\u001b[0m\u001b[0;34m\u001b[0m\u001b[0m\n\u001b[1;32m     10\u001b[0m \u001b[0;34m\u001b[0m\u001b[0m\n\u001b[0;32m---> 11\u001b[0;31m \u001b[0mepm\u001b[0m \u001b[0;34m=\u001b[0m \u001b[0mEPmail\u001b[0m\u001b[0;34m(\u001b[0m\u001b[0mapiurl\u001b[0m\u001b[0;34m,\u001b[0m \u001b[0mapikey\u001b[0m\u001b[0;34m)\u001b[0m\u001b[0;34m\u001b[0m\u001b[0m\n\u001b[0m\u001b[1;32m     12\u001b[0m \u001b[0msend_simple_message\u001b[0m\u001b[0;34m(\u001b[0m\u001b[0mmto\u001b[0m\u001b[0;34m,\u001b[0m \u001b[0mmfrom\u001b[0m\u001b[0;34m,\u001b[0m \u001b[0mmsubject\u001b[0m\u001b[0;34m)\u001b[0m\u001b[0;34m\u001b[0m\u001b[0m\n",
      "\u001b[0;31mTypeError\u001b[0m: __init__() missing 1 required positional argument: 'mmsg'"
     ],
     "output_type": "error"
    }
   ],
   "source": [
    "from EPmail import EPmail\n",
    "\n",
    "apiurl = ''\n",
    "apikey = ''\n",
    "\n",
    "mtext = 'Este mensaje fue enviado con mailgun'\n",
    "msubject = 'Prueba con mailgun'\n",
    "mfrom = ''\n",
    "mto = ''\n",
    "\n",
    "epm = EPmail(apiurl, apikey)\n",
    "send_simple_message(mto, mfrom, msubject)"
   ]
  },
  {
   "cell_type": "code",
   "execution_count": 7,
   "metadata": {},
   "outputs": [
    {
     "ename": "ImportError",
     "evalue": "No module named 'epo_ops'",
     "traceback": [
      "\u001b[0;31m---------------------------------------------------------------------------\u001b[0m",
      "\u001b[0;31mImportError\u001b[0m                               Traceback (most recent call last)",
      "\u001b[0;32m<ipython-input-7-2d64fb1e3b9c>\u001b[0m in \u001b[0;36m<module>\u001b[0;34m()\u001b[0m\n\u001b[0;32m----> 1\u001b[0;31m \u001b[0;32mimport\u001b[0m \u001b[0mepo_ops\u001b[0m\u001b[0;34m\u001b[0m\u001b[0m\n\u001b[0m\u001b[1;32m      2\u001b[0m \u001b[0;34m\u001b[0m\u001b[0m\n\u001b[1;32m      3\u001b[0m \u001b[0mclient\u001b[0m \u001b[0;34m=\u001b[0m \u001b[0mepo_ops\u001b[0m\u001b[0;34m.\u001b[0m\u001b[0mClient\u001b[0m\u001b[0;34m(\u001b[0m\u001b[0mkey\u001b[0m\u001b[0;34m=\u001b[0m\u001b[0;34m'abc'\u001b[0m\u001b[0;34m,\u001b[0m \u001b[0msecret\u001b[0m\u001b[0;34m=\u001b[0m\u001b[0;34m'xyz'\u001b[0m\u001b[0;34m)\u001b[0m  \u001b[0;31m# Instantiate client\u001b[0m\u001b[0;34m\u001b[0m\u001b[0m\n\u001b[1;32m      4\u001b[0m response = client.published_data(  # Retrieve bibliography data\n\u001b[1;32m      5\u001b[0m   \u001b[0mreference_type\u001b[0m \u001b[0;34m=\u001b[0m \u001b[0;34m'publication'\u001b[0m\u001b[0;34m,\u001b[0m  \u001b[0;31m# publication, application, priority\u001b[0m\u001b[0;34m\u001b[0m\u001b[0m\n",
      "\u001b[0;31mImportError\u001b[0m: No module named 'epo_ops'"
     ],
     "output_type": "error"
    }
   ],
   "source": [
    "import epo_ops\n",
    "\n",
    "client = epo_ops.Client(key='abc', secret='xyz')  # Instantiate client\n",
    "response = client.published_data(  # Retrieve bibliography data\n",
    "  reference_type = 'publication',  # publication, application, priority\n",
    "  input = epo_ops.models.Docdb('1000000', 'EP', 'A1'),  # original, docdb, epodoc\n",
    "  endpoint = 'biblio',  # optional, defaults to biblio in case of published_data\n",
    "  constituents = []  # optional, list of constituents\n",
    ")"
   ]
  },
  {
   "cell_type": "code",
   "execution_count": 46,
   "metadata": {},
   "outputs": [],
   "source": [
    ""
   ]
  }
 ],
 "metadata": {
  "kernelspec": {
   "display_name": "Python 2",
   "language": "python",
   "name": "python2"
  },
  "language_info": {
   "codemirror_mode": {
    "name": "ipython",
    "version": 2.0
   },
   "file_extension": ".py",
   "mimetype": "text/x-python",
   "name": "python",
   "nbconvert_exporter": "python",
   "pygments_lexer": "ipython2",
   "version": "2.7.6"
  }
 },
 "nbformat": 4,
 "nbformat_minor": 0
}