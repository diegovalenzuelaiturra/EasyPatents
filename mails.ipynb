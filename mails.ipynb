{
 "cells": [
  {
   "cell_type": "code",
   "execution_count": 38,
   "metadata": {
    "collapsed": true
   },
   "outputs": [
    {
     "ename": "TypeError",
     "evalue": "__init__() missing 1 required positional argument: 'mmsg'",
     "traceback": [
      "\u001b[0;31m---------------------------------------------------------------------------\u001b[0m",
      "\u001b[0;31mTypeError\u001b[0m                                 Traceback (most recent call last)",
      "\u001b[0;32m<ipython-input-38-e8e8c616b0e8>\u001b[0m in \u001b[0;36m<module>\u001b[0;34m()\u001b[0m\n\u001b[1;32m      9\u001b[0m \u001b[0mmto\u001b[0m \u001b[0;34m=\u001b[0m \u001b[0;34m'robiibanez@gmail.com'\u001b[0m\u001b[0;34m\u001b[0m\u001b[0m\n\u001b[1;32m     10\u001b[0m \u001b[0;34m\u001b[0m\u001b[0m\n\u001b[0;32m---> 11\u001b[0;31m \u001b[0mepm\u001b[0m \u001b[0;34m=\u001b[0m \u001b[0mEPmail\u001b[0m\u001b[0;34m(\u001b[0m\u001b[0mapiurl\u001b[0m\u001b[0;34m,\u001b[0m \u001b[0mapikey\u001b[0m\u001b[0;34m)\u001b[0m\u001b[0;34m\u001b[0m\u001b[0m\n\u001b[0m\u001b[1;32m     12\u001b[0m \u001b[0msend_simple_message\u001b[0m\u001b[0;34m(\u001b[0m\u001b[0mmto\u001b[0m\u001b[0;34m,\u001b[0m \u001b[0mmfrom\u001b[0m\u001b[0;34m,\u001b[0m \u001b[0mmsubject\u001b[0m\u001b[0;34m)\u001b[0m\u001b[0;34m\u001b[0m\u001b[0m\n",
      "\u001b[0;31mTypeError\u001b[0m: __init__() missing 1 required positional argument: 'mmsg'"
     ],
     "output_type": "error"
    }
   ],
   "source": [
    "from EPmail import EPmail\n",
    "\n",
    "apiurl = 'https://api.mailgun.net/v3/mail.easypatents.cl'\n",
    "apikey = 'key-a4953915dffa936b1e83070c0de3c3ef'\n",
    "\n",
    "mtext = 'Este mensaje fue enviado con mailgun'\n",
    "msubject = 'Prueba con mailgun'\n",
    "mfrom = 'ro-bot@easypatents.cl'\n",
    "mto = 'robiibanez@gmail.com'\n",
    "\n",
    "epm = EPmail(apiurl, apikey)\n",
    "send_simple_message(mto, mfrom, msubject)"
   ]
  },
  {
   "cell_type": "code",
   "execution_count": 49,
   "metadata": {},
   "outputs": [
    {
     "data": {
      "text/plain": [
       "\"Hi, I'm Ro your assistant bot\""
      ]
     },
     "execution_count": 49,
     "metadata": {},
     "output_type": "execute_result"
    }
   ],
   "source": [
    "from translate import Translator\n",
    "translator= Translator(from_lang=\"es\", to_lang=\"en\")\n",
    "translator.translate(\"Hola, soy Ro tu bot asistente\")"
   ]
  },
  {
   "cell_type": "code",
   "execution_count": 46,
   "metadata": {},
   "outputs": [],
   "source": [
    ""
   ]
  },
  {
   "cell_type": "code",
   "execution_count": null,
   "metadata": {},
   "outputs": [],
   "source": [
    ""
   ]
  }
 ],
 "metadata": {
  "kernelspec": {
   "display_name": "Python 2",
   "language": "python",
   "name": "python2"
  },
  "language_info": {
   "codemirror_mode": {
    "name": "ipython",
    "version": 2.0
   },
   "file_extension": ".py",
   "mimetype": "text/x-python",
   "name": "python",
   "nbconvert_exporter": "python",
   "pygments_lexer": "ipython2",
   "version": "2.7.6"
  }
 },
 "nbformat": 4,
 "nbformat_minor": 0
}